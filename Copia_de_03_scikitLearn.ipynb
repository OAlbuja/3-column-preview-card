{
  "nbformat": 4,
  "nbformat_minor": 0,
  "metadata": {
    "colab": {
      "provenance": [],
      "private_outputs": true,
      "include_colab_link": true
    },
    "kernelspec": {
      "name": "python3",
      "display_name": "Python 3"
    },
    "language_info": {
      "name": "python"
    }
  },
  "cells": [
    {
      "cell_type": "markdown",
      "metadata": {
        "id": "view-in-github",
        "colab_type": "text"
      },
      "source": [
        "<a href=\"https://colab.research.google.com/github/OAlbuja/3-column-preview-card/blob/master/Copia_de_03_scikitLearn.ipynb\" target=\"_parent\"><img src=\"https://colab.research.google.com/assets/colab-badge.svg\" alt=\"Open In Colab\"/></a>"
      ]
    },
    {
      "cell_type": "markdown",
      "source": [
        "# Scikit-learn\n",
        "\n",
        "The most prominent Python library for traditional machine learning (ML) is *scikit-learn*.  This library includes simple and efficient tools for predictive data analysis, while it is accessible to everybody, and reusable in various contexts.  Scikit-learn is an open source (commercially usable under the BSD license) ML library that supports supervised and unsupervised learning, and is built on NumPy, SciPy, and matplotlib.  It also provides various tools for model fitting, data preprocessing, model selection, model evaluation, and many other utilities.  The main source of information about Scikit-learn is its [webpage](https://scikit-learn.org/).\n",
        "\n",
        "There are different ways to install Scikit-learn, since this library is available on Windows, Mac OS, and Linux.  In fact, Scikit-learn can be installed through *pip* or *conda*.  A complete guide of scikit-learn can be found [here](https://scikit-learn.org/stable/install.html).  In addition, if you have problems with the installation of Python or Scikit-learn in your local machine, you can also run the examples in Google Colab (or [Colaboratory](https://colab.research.google.com/)).\n",
        "\n",
        "Importing basic libraries"
      ],
      "metadata": {
        "id": "Ou51je1ljxcv"
      }
    },
    {
      "cell_type": "code",
      "source": [
        "import numpy as np\n",
        "import matplotlib.pyplot as plt\n",
        "import sklearn.neural_network as snn\n",
        "from sklearn import datasets\n",
        "from sklearn.model_selection import train_test_split\n",
        "from sklearn import svm\n",
        "from sklearn import neighbors\n",
        "from sklearn import tree\n",
        "from sklearn.linear_model import LogisticRegression\n",
        "from sklearn.discriminant_analysis import QuadraticDiscriminantAnalysis\n",
        "from sklearn.naive_bayes import GaussianNB\n",
        "from sklearn.ensemble import BaggingClassifier\n",
        "from sklearn import metrics\n",
        "from scipy.stats import zscore"
      ],
      "metadata": {
        "id": "cQ3Ph-kVMFJB"
      },
      "execution_count": null,
      "outputs": []
    },
    {
      "cell_type": "markdown",
      "source": [
        "Example for loading Matlab datasets"
      ],
      "metadata": {
        "id": "ymhEHNTMMPFi"
      }
    },
    {
      "cell_type": "code",
      "source": [
        "import scipy.io\n",
        "\n",
        "mat = scipy.io.loadmat('sample_data/HSEfeatures.mat')\n",
        "data = mat['heart']\n",
        "x = data[:,0:27]\n",
        "y = data[:,27:28]\n",
        "print(x.shape, y.shape)"
      ],
      "metadata": {
        "id": "q213Q9hS47IW"
      },
      "execution_count": null,
      "outputs": []
    },
    {
      "cell_type": "markdown",
      "source": [
        "## Regression\n",
        "\n",
        "Dataset loading"
      ],
      "metadata": {
        "id": "XoNUGTER0O2u"
      }
    },
    {
      "cell_type": "code",
      "source": [
        "dataset = datasets.fetch_california_housing()\n",
        "Xtrain, Xtest, Ytrain, Ytest = train_test_split(dataset.data, dataset.target, test_size=0.3, random_state=0)\n",
        "Xtrain = zscore(Xtrain, axis=0)\n",
        "Xtest = zscore(Xtest, axis=0)"
      ],
      "metadata": {
        "id": "b-nFPUVF1bkj"
      },
      "execution_count": null,
      "outputs": []
    },
    {
      "cell_type": "markdown",
      "source": [
        "Support vector regression"
      ],
      "metadata": {
        "id": "gaHQX1Xr2Hfw"
      }
    },
    {
      "cell_type": "code",
      "source": [
        "mdl = svm.SVR(kernel='rbf')\n",
        "mdl.fit(Xtrain, Ytrain)\n",
        "Y_hat = mdl.predict(Xtest)"
      ],
      "metadata": {
        "id": "neMbSRYX2Knw"
      },
      "execution_count": null,
      "outputs": []
    },
    {
      "cell_type": "markdown",
      "source": [
        "K-nearest neighbor regression"
      ],
      "metadata": {
        "id": "ab4gkAs92874"
      }
    },
    {
      "cell_type": "code",
      "source": [
        "mdl = neighbors.KNeighborsRegressor(n_neighbors=3, weights='distance')\n",
        "mdl.fit(Xtrain, Ytrain)\n",
        "Y_hat = mdl.predict(Xtest)"
      ],
      "metadata": {
        "id": "1r_ObXUi2_ol"
      },
      "execution_count": null,
      "outputs": []
    },
    {
      "cell_type": "markdown",
      "source": [
        "Neural network regression"
      ],
      "metadata": {
        "id": "M5QhPI_M3Ya7"
      }
    },
    {
      "cell_type": "code",
      "source": [
        "mdl = snn.MLPRegressor(hidden_layer_sizes=(50, 50), max_iter=1000)\n",
        "mdl.fit(Xtrain, Ytrain)\n",
        "plt.plot(mdl.loss_curve_)\n",
        "Y_hat = mdl.predict(Xtest)"
      ],
      "metadata": {
        "id": "EgaFHXje3aYR"
      },
      "execution_count": null,
      "outputs": []
    },
    {
      "cell_type": "markdown",
      "source": [
        "Model evaluation: mean squared error"
      ],
      "metadata": {
        "id": "--neCjc65i0M"
      }
    },
    {
      "cell_type": "code",
      "source": [
        "metrics.mean_squared_error(Ytest, Y_hat)"
      ],
      "metadata": {
        "id": "u_b4gNOm5lV_"
      },
      "execution_count": null,
      "outputs": []
    },
    {
      "cell_type": "markdown",
      "source": [
        "**Assignment 1**: Determine the best model to predict the median house value, after adjusting the different hyperparameteres of each model."
      ],
      "metadata": {
        "id": "TFI7_UZ4XSD4"
      }
    },
    {
      "cell_type": "markdown",
      "source": [
        "## Classification\n",
        "\n",
        "Dataset loading"
      ],
      "metadata": {
        "id": "aJZUdwqlzx2P"
      }
    },
    {
      "cell_type": "code",
      "execution_count": null,
      "metadata": {
        "id": "W03DEfC8uurn"
      },
      "outputs": [],
      "source": [
        "Xtrain, Xtest, Ytrain, Ytest = train_test_split(x, y, test_size=0.3)"
      ]
    },
    {
      "cell_type": "markdown",
      "source": [
        "Logistic regresion"
      ],
      "metadata": {
        "id": "5if-ZnGrxDa3"
      }
    },
    {
      "cell_type": "code",
      "source": [
        "mdl = LogisticRegression(max_iter=5000)\n",
        "mdl.fit(Xtrain, Ytrain)\n",
        "Ypred = mdl.predict(Xtest)"
      ],
      "metadata": {
        "id": "r1taOYGixHuQ"
      },
      "execution_count": null,
      "outputs": []
    },
    {
      "cell_type": "markdown",
      "source": [
        "Discriminant Analysis"
      ],
      "metadata": {
        "id": "mifRT07Z3raR"
      }
    },
    {
      "cell_type": "code",
      "source": [
        "mdl = QuadraticDiscriminantAnalysis()\n",
        "mdl.fit(Xtrain, Ytrain)\n",
        "Ypred = mdl.predict(Xtest)"
      ],
      "metadata": {
        "id": "CBXKw8XR3xAN"
      },
      "execution_count": null,
      "outputs": []
    },
    {
      "cell_type": "markdown",
      "source": [
        "Support vector machine"
      ],
      "metadata": {
        "id": "31AqyMVvxkg0"
      }
    },
    {
      "cell_type": "code",
      "source": [
        "mdl = svm.SVC()\n",
        "mdl.fit(Xtrain, Ytrain)\n",
        "Ypred = mdl.predict(Xtest)"
      ],
      "metadata": {
        "id": "oizuILT5xnxZ"
      },
      "execution_count": null,
      "outputs": []
    },
    {
      "cell_type": "markdown",
      "source": [
        "K-nearest neighbors"
      ],
      "metadata": {
        "id": "XeWX70dlx5xV"
      }
    },
    {
      "cell_type": "code",
      "source": [
        "mdl = neighbors.KNeighborsClassifier(n_neighbors=3)\n",
        "mdl.fit(Xtrain, Ytrain)\n",
        "Ypred = mdl.predict(Xtest)"
      ],
      "metadata": {
        "id": "tUE9GF4-yGXd"
      },
      "execution_count": null,
      "outputs": []
    },
    {
      "cell_type": "markdown",
      "source": [
        "Decision tree"
      ],
      "metadata": {
        "id": "LwacmZu9zMpi"
      }
    },
    {
      "cell_type": "code",
      "source": [
        "mdl = tree.DecisionTreeClassifier()\n",
        "mdl.fit(Xtrain, Ytrain)\n",
        "tree.plot_tree(mdl)\n",
        "Ypred = mdl.predict(Xtest)"
      ],
      "metadata": {
        "id": "tKWi_vPWzPIu"
      },
      "execution_count": null,
      "outputs": []
    },
    {
      "cell_type": "markdown",
      "source": [
        "Naive Bayes"
      ],
      "metadata": {
        "id": "Pdnrsvc53ZyE"
      }
    },
    {
      "cell_type": "code",
      "source": [
        "mdl = GaussianNB()\n",
        "mdl.fit(Xtrain, Ytrain)\n",
        "Ypred = mdl.predict(Xtest)"
      ],
      "metadata": {
        "id": "ggpuBDA13c1l"
      },
      "execution_count": null,
      "outputs": []
    },
    {
      "cell_type": "markdown",
      "source": [
        "Neural network"
      ],
      "metadata": {
        "id": "WwqvqIr9zfpR"
      }
    },
    {
      "cell_type": "code",
      "source": [
        "from sklearn.neural_network import MLPClassifier\n",
        "from sklearn.model_selection import train_test_split\n",
        "from sklearn import metrics\n",
        "import matplotlib.pyplot as plt\n",
        "from sklearn.preprocessing import StandardScaler\n",
        "\n",
        "# Normalizar datos\n",
        "scaler = StandardScaler()\n",
        "Xtrain_scaled = scaler.fit_transform(Xtrain)\n",
        "Xtest_scaled = scaler.transform(Xtest)\n",
        "\n",
        "# Ajustar modelo de redes neuronales\n",
        "mdl = MLPClassifier(hidden_layer_sizes=(200, 100, 50, 20), max_iter=2000, solver='adam', activation='tanh', alpha=0.01, batch_size=64, learning_rate='adaptive')\n",
        "mdl.fit(Xtrain_scaled, Ytrain)\n",
        "\n",
        "# Visualizar la curva de pérdida durante el entrenamiento\n",
        "plt.plot(mdl.loss_curve_)\n",
        "plt.xlabel('Número de iteraciones')\n",
        "plt.ylabel('Pérdida')\n",
        "plt.title('Curva de pérdida durante el entrenamiento')\n",
        "plt.show()\n",
        "\n",
        "# Realizar predicciones en el conjunto de prueba\n",
        "Ypred_proba = mdl.predict_proba(Xtest_scaled)[:, 1]\n",
        "threshold = 0.8  # Ajusta el umbral según sea necesario\n",
        "Ypred_custom = (Ypred_proba > threshold).astype(int)"
      ],
      "metadata": {
        "id": "WVNgBXDgzjGa"
      },
      "execution_count": null,
      "outputs": []
    },
    {
      "cell_type": "markdown",
      "source": [
        "Bagging"
      ],
      "metadata": {
        "id": "BuQ8VM7B8205"
      }
    },
    {
      "cell_type": "code",
      "source": [
        "mdl = BaggingClassifier(estimator=svm.SVC(), n_estimators=25)\n",
        "mdl.fit(Xtrain, Ytrain)\n",
        "Ypred = mdl.predict(Xtest)"
      ],
      "metadata": {
        "id": "B2d0_v7E86-I"
      },
      "execution_count": null,
      "outputs": []
    },
    {
      "cell_type": "markdown",
      "source": [
        "Classification report and confusion matrix"
      ],
      "metadata": {
        "id": "f6-y8gStypcr"
      }
    },
    {
      "cell_type": "code",
      "source": [
        "print(f\"Classification report for classifier {mdl}:\\n\"\n",
        "    f\"{metrics.classification_report(Ytest, Ypred)}\\n\")\n",
        "cm = metrics.confusion_matrix(Ytest, Ypred, labels=mdl.classes_)\n",
        "disp = metrics.ConfusionMatrixDisplay(confusion_matrix=cm, display_labels=mdl.classes_)\n",
        "disp.plot();"
      ],
      "metadata": {
        "id": "bsCREEI9yryL"
      },
      "execution_count": null,
      "outputs": []
    },
    {
      "cell_type": "markdown",
      "source": [
        "**Assignment 2**: Determine the best model to predict the hand-written digits, after adjusting the different hyperparameteres of each model."
      ],
      "metadata": {
        "id": "bPeV2GbmYjGM"
      }
    },
    {
      "cell_type": "markdown",
      "source": [
        "**Assignment 3**: Determine the best model to predict `fashion_mnist` dataset, after adjusting the different hyperparameteres of each model."
      ],
      "metadata": {
        "id": "x3vPoN1eY5UQ"
      }
    }
  ]
}